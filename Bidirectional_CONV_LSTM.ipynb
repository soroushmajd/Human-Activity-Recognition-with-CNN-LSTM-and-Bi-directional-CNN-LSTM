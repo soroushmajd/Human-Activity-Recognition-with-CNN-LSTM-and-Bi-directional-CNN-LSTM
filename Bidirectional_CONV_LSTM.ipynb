{
  "nbformat": 4,
  "nbformat_minor": 0,
  "metadata": {
    "colab": {
      "name": "Bidirectional CONV_LSTM.ipynb",
      "provenance": []
    },
    "kernelspec": {
      "name": "python3",
      "display_name": "Python 3"
    },
    "language_info": {
      "name": "python"
    },
    "accelerator": "GPU"
  },
  "cells": [
    {
      "cell_type": "code",
      "execution_count": null,
      "metadata": {
        "colab": {
          "base_uri": "https://localhost:8080/"
        },
        "id": "gyIIyiGLcq78",
        "outputId": "032b65b1-9149-46be-ae58-f85bf14a72d1"
      },
      "outputs": [
        {
          "output_type": "stream",
          "name": "stdout",
          "text": [
            "Drive already mounted at /content/drive; to attempt to forcibly remount, call drive.mount(\"/content/drive\", force_remount=True).\n"
          ]
        }
      ],
      "source": [
        "import numpy as np\n",
        "\n",
        "import pandas as pd\n",
        "\n",
        "import matplotlib.pyplot as plt\n",
        "from tensorflow.keras.models import Sequential\n",
        "\n",
        "from tensorflow.keras.layers import Dense\n",
        "\n",
        "from tensorflow.keras.layers import LSTM\n",
        "\n",
        "from tensorflow.keras.layers import Dropout\n",
        "\n",
        "from tensorflow.keras.layers import Conv1D\n",
        "from tensorflow.keras.layers import  Lambda\n",
        "from tensorflow.keras.optimizers import SGD\n",
        "from sklearn.preprocessing import StandardScaler\n",
        "\n",
        "from tensorflow.keras.losses import Huber\n",
        "\n",
        "from google.colab import drive\n",
        "drive.mount('/content/drive')\n"
      ]
    },
    {
      "cell_type": "code",
      "source": [
        "from tensorflow.keras.utils import to_categorical\n",
        "\n",
        "\n",
        "from sklearn.model_selection import train_test_split\n",
        "\n",
        "data = pd.read_csv('/content/drive/MyDrive/csh101.ann.features.csv')\n",
        "\n",
        "\n",
        "labels = data['activity'].replace(['Step_Out', 'Other_Activity', 'Toilet', 'Phone',\n",
        "       'Personal_Hygiene', 'Leave_Home', 'Enter_Home', 'Relax',\n",
        "       'Sleep_Out_Of_Bed', 'Drink', 'Watch_TV', 'Dress', 'Evening_Meds',\n",
        "       'Wake_Up', 'Read', 'Morning_Meds', 'Cook_Breakfast',\n",
        "       'Eat_Breakfast', 'Bathe', 'Cook_Lunch', 'Eat_Lunch',\n",
        "       'Wash_Lunch_Dishes', 'Go_To_Sleep', 'Sleep',\n",
        "       'Bed_Toilet_Transition', 'Wash_Breakfast_Dishes', 'Work_At_Table',\n",
        "       'Groom', 'Cook', 'Eat', 'Cook_Dinner', 'Eat_Dinner',\n",
        "       'Wash_Dinner_Dishes', 'Wash_Dishes', 'Entertain_Guests'],[x for x in range(35)])\n",
        "\n",
        "data=data.iloc[:, 0:-1].values"
      ],
      "metadata": {
        "id": "kQTLQF2Ocvgx"
      },
      "execution_count": null,
      "outputs": []
    },
    {
      "cell_type": "markdown",
      "source": [
        "trai test split"
      ],
      "metadata": {
        "id": "aATPwnlSUJvs"
      }
    },
    {
      "cell_type": "code",
      "source": [
        "from sklearn.preprocessing import MinMaxScaler\n",
        "\n",
        "sc = MinMaxScaler(feature_range = (0, 1))\n",
        "data = sc.fit_transform(data)\n",
        "\n",
        "X = []\n",
        "y = []\n",
        "for i in range(60, 241071):\n",
        "    X.append(data[i-60:i, :])\n",
        "    y.append(labels[i])\n",
        "X, y = np.array(X), to_categorical(np.array(y))\n",
        "np.shape(X)\n",
        "X = np.reshape(X, (X.shape[0], X.shape[1], 36))\n",
        "\n",
        "X_train, X_test, y_train, y_test= train_test_split(X, y, test_size=0.25, random_state=1)\n",
        "\n",
        "X_train, X_val, y_train, y_val= train_test_split(X_train, y_train, test_size=0.25, random_state=1)"
      ],
      "metadata": {
        "id": "3wI0aORkc2SY"
      },
      "execution_count": null,
      "outputs": []
    },
    {
      "cell_type": "markdown",
      "source": [
        "fit"
      ],
      "metadata": {
        "id": "NpPLezHLUMni"
      }
    },
    {
      "cell_type": "code",
      "source": [
        "from keras.models import Sequential\n",
        "from keras.layers import Conv1D, Dropout, Dense, Flatten, LSTM, MaxPooling1D, Bidirectional\n",
        "from tensorflow.keras.optimizers import Adam\n",
        "from keras.callbacks import EarlyStopping, TensorBoard\n",
        "\n",
        "adm=Adam(learning_rate=0.001,decay=0, beta_1=0.9, beta_2=0.999, epsilon=1e-08)\n",
        "opt=adm\n",
        "model = Sequential()\n",
        "\n",
        "model.add(Conv1D(64, kernel_size=5, activation='relu', padding='same',\n",
        "                 input_shape= (X_train.shape[1], 36)))\n",
        "\n",
        "model.add(Conv1D(64, kernel_size=5, activation='relu', padding='same'))\n",
        "#model.add(Conv1D(64, kernel_size=3, activation='relu', padding='same'))\n",
        "\n",
        "model.add(MaxPooling1D(pool_size=7))\n",
        "\n",
        "\n",
        "model.add(Bidirectional(LSTM(256, dropout=0.01, recurrent_dropout=0.03 , return_sequences= True)))\n",
        "model.add(Bidirectional(LSTM(256, dropout=0.01, recurrent_dropout=0.03)))\n",
        "\n",
        "#model.add(Dense(100, activation='sigmoid'))\n",
        "#model.add(Dropout(0.2))\n",
        "#model.add(Dense(100, activation='sigmoid'))\n",
        "#model.add(Dropout(0.25))\n",
        "#model.add(Dense(100, activation='sigmoid'))\n",
        "#model.add(Dropout(0.25))\n",
        "\n",
        "model.add(Dense(35, activation='softmax'))\n",
        "\n",
        "model.compile(loss='categorical_crossentropy', optimizer=adm, metrics=['accuracy'])\n",
        "\n",
        "\n",
        "\n",
        "model.summary()"
      ],
      "metadata": {
        "colab": {
          "base_uri": "https://localhost:8080/"
        },
        "id": "g05S1bGKc5hw",
        "outputId": "c32f201a-1ef1-493f-e189-a23fdd1026d7"
      },
      "execution_count": null,
      "outputs": [
        {
          "output_type": "stream",
          "name": "stdout",
          "text": [
            "WARNING:tensorflow:Layer lstm will not use cuDNN kernels since it doesn't meet the criteria. It will use a generic GPU kernel as fallback when running on GPU.\n",
            "WARNING:tensorflow:Layer lstm will not use cuDNN kernels since it doesn't meet the criteria. It will use a generic GPU kernel as fallback when running on GPU.\n",
            "WARNING:tensorflow:Layer lstm will not use cuDNN kernels since it doesn't meet the criteria. It will use a generic GPU kernel as fallback when running on GPU.\n",
            "WARNING:tensorflow:Layer lstm_1 will not use cuDNN kernels since it doesn't meet the criteria. It will use a generic GPU kernel as fallback when running on GPU.\n",
            "WARNING:tensorflow:Layer lstm_1 will not use cuDNN kernels since it doesn't meet the criteria. It will use a generic GPU kernel as fallback when running on GPU.\n",
            "WARNING:tensorflow:Layer lstm_1 will not use cuDNN kernels since it doesn't meet the criteria. It will use a generic GPU kernel as fallback when running on GPU.\n",
            "Model: \"sequential\"\n",
            "_________________________________________________________________\n",
            " Layer (type)                Output Shape              Param #   \n",
            "=================================================================\n",
            " conv1d (Conv1D)             (None, 60, 64)            11584     \n",
            "                                                                 \n",
            " conv1d_1 (Conv1D)           (None, 60, 64)            20544     \n",
            "                                                                 \n",
            " max_pooling1d (MaxPooling1D  (None, 8, 64)            0         \n",
            " )                                                               \n",
            "                                                                 \n",
            " bidirectional (Bidirectiona  (None, 8, 512)           657408    \n",
            " l)                                                              \n",
            "                                                                 \n",
            " bidirectional_1 (Bidirectio  (None, 512)              1574912   \n",
            " nal)                                                            \n",
            "                                                                 \n",
            " dense (Dense)               (None, 35)                17955     \n",
            "                                                                 \n",
            "=================================================================\n",
            "Total params: 2,282,403\n",
            "Trainable params: 2,282,403\n",
            "Non-trainable params: 0\n",
            "_________________________________________________________________\n"
          ]
        }
      ]
    },
    {
      "cell_type": "code",
      "source": [
        "network_history = model.fit(X_train, y_train, batch_size=128,  epochs=12, validation_data=(X_val, y_val))\n"
      ],
      "metadata": {
        "colab": {
          "base_uri": "https://localhost:8080/"
        },
        "id": "JDCi_YLXc-Yg",
        "outputId": "28c24a3d-2d77-487c-e69b-df6b25bc5da2"
      },
      "execution_count": null,
      "outputs": [
        {
          "output_type": "stream",
          "name": "stdout",
          "text": [
            "Epoch 1/12\n",
            "1060/1060 [==============================] - 295s 259ms/step - loss: 1.0726 - accuracy: 0.6499 - val_loss: 0.8454 - val_accuracy: 0.7094\n",
            "Epoch 2/12\n",
            "1060/1060 [==============================] - 271s 256ms/step - loss: 0.7187 - accuracy: 0.7478 - val_loss: 0.6488 - val_accuracy: 0.7682\n",
            "Epoch 3/12\n",
            "1060/1060 [==============================] - 272s 257ms/step - loss: 0.5527 - accuracy: 0.8042 - val_loss: 0.4801 - val_accuracy: 0.8333\n",
            "Epoch 4/12\n",
            "1060/1060 [==============================] - 270s 254ms/step - loss: 0.4129 - accuracy: 0.8557 - val_loss: 0.3808 - val_accuracy: 0.8698\n",
            "Epoch 5/12\n",
            "1060/1060 [==============================] - 271s 255ms/step - loss: 0.3253 - accuracy: 0.8861 - val_loss: 0.3253 - val_accuracy: 0.8887\n",
            "Epoch 6/12\n",
            "1060/1060 [==============================] - 269s 254ms/step - loss: 0.2685 - accuracy: 0.9068 - val_loss: 0.2675 - val_accuracy: 0.9085\n",
            "Epoch 7/12\n",
            "1060/1060 [==============================] - 269s 254ms/step - loss: 0.2289 - accuracy: 0.9204 - val_loss: 0.2416 - val_accuracy: 0.9213\n",
            "Epoch 8/12\n",
            "1060/1060 [==============================] - 269s 254ms/step - loss: 0.2059 - accuracy: 0.9288 - val_loss: 0.2142 - val_accuracy: 0.9292\n",
            "Epoch 9/12\n",
            "1060/1060 [==============================] - 266s 251ms/step - loss: 0.1880 - accuracy: 0.9344 - val_loss: 0.1991 - val_accuracy: 0.9332\n",
            "Epoch 10/12\n",
            "1060/1060 [==============================] - 265s 250ms/step - loss: 0.1754 - accuracy: 0.9383 - val_loss: 0.1806 - val_accuracy: 0.9393\n",
            "Epoch 11/12\n",
            "1060/1060 [==============================] - 266s 251ms/step - loss: 0.1636 - accuracy: 0.9419 - val_loss: 0.1992 - val_accuracy: 0.9334\n",
            "Epoch 12/12\n",
            "1060/1060 [==============================] - 265s 250ms/step - loss: 0.1527 - accuracy: 0.9466 - val_loss: 0.2010 - val_accuracy: 0.9323\n"
          ]
        }
      ]
    },
    {
      "cell_type": "markdown",
      "source": [
        "evaluate"
      ],
      "metadata": {
        "id": "P9BkLEwsUQwL"
      }
    },
    {
      "cell_type": "code",
      "source": [
        "\n",
        "history = network_history.history\n",
        "\n",
        "\n",
        "losses = history['loss']\n",
        "val_losses = history['val_loss']\n",
        "accuracies = history['accuracy']\n",
        "val_accuracies = history['val_accuracy']\n",
        "\n",
        "plt.xlabel = ('epochs')\n",
        "plt.ylabel = ('accuracy')\n",
        "plt.plot(accuracies)\n",
        "plt.plot(val_accuracies)\n",
        "plt.plot(losses)\n",
        "plt.plot(val_losses)\n",
        "plt.legend(['accuracy', 'val_accuracy', 'loss', 'val_loss'])\n",
        "plt.title(['train data losses and accuracies'])\n",
        "plt.figure()"
      ],
      "metadata": {
        "colab": {
          "base_uri": "https://localhost:8080/",
          "height": 316
        },
        "id": "IXj25lJ4zMNR",
        "outputId": "dd77f475-47a4-49d0-b6b1-4e456ab8992f"
      },
      "execution_count": null,
      "outputs": [
        {
          "output_type": "execute_result",
          "data": {
            "text/plain": [
              "<Figure size 432x288 with 0 Axes>"
            ]
          },
          "metadata": {},
          "execution_count": 6
        },
        {
          "output_type": "display_data",
          "data": {
            "image/png": "[encoded data removed]",
            "text/plain": [
              "<Figure size 432x288 with 1 Axes>"
            ]
          },
          "metadata": {
            "needs_background": "light"
          }
        },
        {
          "output_type": "display_data",
          "data": {
            "text/plain": [
              "<Figure size 432x288 with 0 Axes>"
            ]
          },
          "metadata": {}
        }
      ]
    },
    {
      "cell_type": "code",
      "source": [
        "model.save('/content/drive/MyDrive/my_model.h5')"
      ],
      "metadata": {
        "id": "K5V5yxBo1Va9"
      },
      "execution_count": null,
      "outputs": []
    },
    {
      "cell_type": "code",
      "source": [
        "from keras.models import load_model\n",
        "model = load_model('/content/drive/MyDrive/my_model.h5')"
      ],
      "metadata": {
        "colab": {
          "base_uri": "https://localhost:8080/"
        },
        "id": "iDCjQ0U42AU9",
        "outputId": "8d9c1b08-3ff4-4bfd-d8ef-1cc49aca1e2d"
      },
      "execution_count": null,
      "outputs": [
        {
          "output_type": "stream",
          "name": "stdout",
          "text": [
            "WARNING:tensorflow:Layer lstm will not use cuDNN kernels since it doesn't meet the criteria. It will use a generic GPU kernel as fallback when running on GPU.\n",
            "WARNING:tensorflow:Layer lstm will not use cuDNN kernels since it doesn't meet the criteria. It will use a generic GPU kernel as fallback when running on GPU.\n",
            "WARNING:tensorflow:Layer lstm will not use cuDNN kernels since it doesn't meet the criteria. It will use a generic GPU kernel as fallback when running on GPU.\n",
            "WARNING:tensorflow:Layer lstm_1 will not use cuDNN kernels since it doesn't meet the criteria. It will use a generic GPU kernel as fallback when running on GPU.\n",
            "WARNING:tensorflow:Layer lstm_1 will not use cuDNN kernels since it doesn't meet the criteria. It will use a generic GPU kernel as fallback when running on GPU.\n",
            "WARNING:tensorflow:Layer lstm_1 will not use cuDNN kernels since it doesn't meet the criteria. It will use a generic GPU kernel as fallback when running on GPU.\n"
          ]
        }
      ]
    },
    {
      "cell_type": "markdown",
      "source": [
        "prediction"
      ],
      "metadata": {
        "id": "RDSWFZVsUTQj"
      }
    },
    {
      "cell_type": "code",
      "source": [
        "test_loss, test_accuracy = model.evaluate(X_test, y_test)\n",
        "\n",
        "\n",
        "print('test_loss =',test_loss)\n",
        "print('test_accuracy =',test_accuracy)\n",
        "\n"
      ],
      "metadata": {
        "colab": {
          "base_uri": "https://localhost:8080/"
        },
        "id": "MCE9PNYN0X7W",
        "outputId": "9407de66-3776-4907-8fdf-2f8dcf84194d"
      },
      "execution_count": null,
      "outputs": [
        {
          "output_type": "stream",
          "name": "stdout",
          "text": [
            "1883/1883 [==============================] - 50s 22ms/step - loss: 0.1983 - accuracy: 0.9351\n",
            "test_loss = 0.19832094013690948\n",
            "test_accuracy = 0.9351235628128052\n"
          ]
        }
      ]
    }
  ]
}