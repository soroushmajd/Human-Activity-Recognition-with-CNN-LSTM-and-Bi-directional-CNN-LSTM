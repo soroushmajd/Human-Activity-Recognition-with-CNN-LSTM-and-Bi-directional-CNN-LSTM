{
  "nbformat": 4,
  "nbformat_minor": 0,
  "metadata": {
    "colab": {
      "name": "CONV_LSTM.ipynb",
      "provenance": []
    },
    "kernelspec": {
      "name": "python3",
      "display_name": "Python 3"
    },
    "language_info": {
      "name": "python"
    },
    "accelerator": "GPU"
  },
  "cells": [
    {
      "cell_type": "code",
      "execution_count": null,
      "metadata": {
        "id": "DZgimFIA9MrY"
      },
      "outputs": [],
      "source": []
    },
    {
      "cell_type": "code",
      "execution_count": null,
      "metadata": {
        "id": "AP6uThT96tiC",
        "colab": {
          "base_uri": "https://localhost:8080/"
        },
        "outputId": "578b30ef-0839-42cc-835e-e705e68e3898"
      },
      "outputs": [
        {
          "output_type": "stream",
          "name": "stdout",
          "text": [
            "Drive already mounted at /content/drive; to attempt to forcibly remount, call drive.mount(\"/content/drive\", force_remount=True).\n"
          ]
        }
      ],
      "source": [
        "import numpy as np\n",
        "from sklearn.preprocessing import StandardScaler\n",
        "import pandas as pd\n",
        "from tensorflow.keras.utils import to_categorical\n",
        "from sklearn.model_selection import train_test_split\n",
        "import matplotlib.pyplot as plt\n",
        "from tensorflow.keras.models import Sequential\n",
        "\n",
        "from tensorflow.keras.layers import Dense\n",
        "\n",
        "from tensorflow.keras.layers import LSTM\n",
        "\n",
        "from tensorflow.keras.layers import Dropout\n",
        "\n",
        "from tensorflow.keras.layers import Conv1D\n",
        "from tensorflow.keras.layers import  Lambda\n",
        "from tensorflow.keras.optimizers import SGD\n",
        "\n",
        "from tensorflow.keras.losses import Huber\n",
        "\n",
        "from numpy import array\n",
        "from numpy import argmax\n",
        "from sklearn.preprocessing import LabelEncoder\n",
        "from sklearn.preprocessing import OneHotEncoder\n",
        "from google.colab import drive\n",
        "drive.mount('/content/drive')\n"
      ]
    },
    {
      "cell_type": "code",
      "source": [
        "from tensorflow.keras.utils import to_categorical\n",
        "\n",
        "\n",
        "from sklearn.model_selection import train_test_split\n",
        "\n",
        "data = pd.read_csv('/content/drive/MyDrive/csh101/csh101.ann.features.csv')\n",
        "\n",
        "\n",
        "labels = data['activity'].replace(['Step_Out', 'Other_Activity', 'Toilet', 'Phone',\n",
        "       'Personal_Hygiene', 'Leave_Home', 'Enter_Home', 'Relax',\n",
        "       'Sleep_Out_Of_Bed', 'Drink', 'Watch_TV', 'Dress', 'Evening_Meds',\n",
        "       'Wake_Up', 'Read', 'Morning_Meds', 'Cook_Breakfast',\n",
        "       'Eat_Breakfast', 'Bathe', 'Cook_Lunch', 'Eat_Lunch',\n",
        "       'Wash_Lunch_Dishes', 'Go_To_Sleep', 'Sleep',\n",
        "       'Bed_Toilet_Transition', 'Wash_Breakfast_Dishes', 'Work_At_Table',\n",
        "       'Groom', 'Cook', 'Eat', 'Cook_Dinner', 'Eat_Dinner',\n",
        "       'Wash_Dinner_Dishes', 'Wash_Dishes', 'Entertain_Guests'],[x for x in range(35)])\n",
        "\n",
        "data=data.iloc[:, 0:-1].values"
      ],
      "metadata": {
        "id": "R-1VDzYW7AcJ"
      },
      "execution_count": null,
      "outputs": []
    },
    {
      "cell_type": "code",
      "source": [
        "from sklearn.preprocessing import MinMaxScaler\n",
        "\n",
        "sc = MinMaxScaler(feature_range = (0, 1))\n",
        "data = sc.fit_transform(data)\n",
        "\n",
        "\n",
        "X = []\n",
        "y = []\n",
        "for i in range(60, 241071):\n",
        "    X.append(data[i-60:i, :])\n",
        "    y.append(labels[i])\n",
        "X, y = np.array(X), to_categorical(np.array(y))\n",
        "np.shape(X)\n",
        "X = np.reshape(X, (X.shape[0], X.shape[1], 36))\n",
        "\n",
        "\n",
        "X_train, X_test, y_train, y_test= train_test_split(X, y, test_size=0.25, random_state=1)\n",
        "\n",
        "\n",
        "X_train, X_val, y_train, y_val= train_test_split(X_train, y_train, test_size=0.25, random_state=1)"
      ],
      "metadata": {
        "id": "UNDM_WQd7EcA"
      },
      "execution_count": null,
      "outputs": []
    },
    {
      "cell_type": "code",
      "source": [
        "from keras.models import Sequential\n",
        "from keras.layers import Conv1D, Dropout, Dense, Flatten, LSTM, MaxPooling1D, Bidirectional\n",
        "from tensorflow.keras.optimizers import Adam\n",
        "from keras.callbacks import EarlyStopping, TensorBoard\n",
        "\n",
        "adm=Adam(learning_rate=0.002,decay=0, beta_1=0.9, beta_2=0.999, epsilon=1e-08)\n",
        "opt=adm\n",
        "model = Sequential()\n",
        "\n",
        "model.add(Conv1D(64, kernel_size=5, activation='relu', padding='same',\n",
        "                 input_shape= (X_train.shape[1], 36)))\n",
        "\n",
        "model.add(Conv1D(64, kernel_size=5, activation='relu', padding='same'))\n",
        "\n",
        "\n",
        "\n",
        "model.add(LSTM(200, dropout=0.05, recurrent_dropout=0.01, return_sequences= True))\n",
        "model.add(LSTM(200, dropout=0.05, recurrent_dropout=0.01))\n",
        "\n",
        "\n",
        "#model.add(Dense(100, activation='sigmoid'))\n",
        "#model.add(Dropout(0.2))\n",
        "#model.add(Dense(512, activation='sigmoid'))\n",
        "#model.add(Dropout(0.25))\n",
        "#model.add(Dense(512, activation='sigmoid'))\n",
        "#model.add(Dropout(0.25))\n",
        "\n",
        "model.add(Dense(35, activation='softmax'))\n",
        "\n",
        "model.compile(loss='categorical_crossentropy', optimizer=adm, metrics=['accuracy'])\n",
        "\n",
        "\n",
        "\n",
        "model.summary()"
      ],
      "metadata": {
        "colab": {
          "base_uri": "https://localhost:8080/"
        },
        "id": "kduPk9hQ7RKQ",
        "outputId": "5c0f8353-7ae5-4405-e1a2-83c773ab2e5a"
      },
      "execution_count": null,
      "outputs": [
        {
          "output_type": "stream",
          "name": "stdout",
          "text": [
            "WARNING:tensorflow:Layer lstm will not use cuDNN kernels since it doesn't meet the criteria. It will use a generic GPU kernel as fallback when running on GPU.\n",
            "WARNING:tensorflow:Layer lstm_1 will not use cuDNN kernels since it doesn't meet the criteria. It will use a generic GPU kernel as fallback when running on GPU.\n",
            "Model: \"sequential\"\n",
            "_________________________________________________________________\n",
            " Layer (type)                Output Shape              Param #   \n",
            "=================================================================\n",
            " conv1d (Conv1D)             (None, 60, 64)            11584     \n",
            "                                                                 \n",
            " conv1d_1 (Conv1D)           (None, 60, 64)            20544     \n",
            "                                                                 \n",
            " lstm (LSTM)                 (None, 60, 200)           212000    \n",
            "                                                                 \n",
            " lstm_1 (LSTM)               (None, 200)               320800    \n",
            "                                                                 \n",
            " dense (Dense)               (None, 35)                7035      \n",
            "                                                                 \n",
            "=================================================================\n",
            "Total params: 571,963\n",
            "Trainable params: 571,963\n",
            "Non-trainable params: 0\n",
            "_________________________________________________________________\n"
          ]
        }
      ]
    },
    {
      "cell_type": "code",
      "source": [
        "network_history = model.fit(X_train, y_train, batch_size=256,  epochs=12, validation_data=(X_val, y_val))"
      ],
      "metadata": {
        "colab": {
          "base_uri": "https://localhost:8080/"
        },
        "id": "_Uw1Qzrs7t65",
        "outputId": "27e752f8-87fa-481b-aff0-a118643999ae"
      },
      "execution_count": null,
      "outputs": [
        {
          "output_type": "stream",
          "name": "stdout",
          "text": [
            "Epoch 1/12\n",
            "530/530 [==============================] - 534s 977ms/step - loss: 1.1709 - accuracy: 0.6258 - val_loss: 0.9741 - val_accuracy: 0.6735\n",
            "Epoch 2/12\n",
            "530/530 [==============================] - 519s 979ms/step - loss: 0.8156 - accuracy: 0.7189 - val_loss: 0.7570 - val_accuracy: 0.7387\n",
            "Epoch 3/12\n",
            "530/530 [==============================] - 521s 983ms/step - loss: 0.7052 - accuracy: 0.7510 - val_loss: 0.7096 - val_accuracy: 0.7528\n",
            "Epoch 4/12\n",
            "530/530 [==============================] - 509s 960ms/step - loss: 0.6538 - accuracy: 0.7701 - val_loss: 0.5925 - val_accuracy: 0.7897\n",
            "Epoch 5/12\n",
            "530/530 [==============================] - 505s 954ms/step - loss: 0.6026 - accuracy: 0.7883 - val_loss: 0.6060 - val_accuracy: 0.7832\n",
            "Epoch 6/12\n",
            "530/530 [==============================] - 506s 955ms/step - loss: 0.5279 - accuracy: 0.8146 - val_loss: 0.5246 - val_accuracy: 0.8182\n",
            "Epoch 7/12\n",
            "530/530 [==============================] - 507s 957ms/step - loss: 0.4439 - accuracy: 0.8453 - val_loss: 0.4857 - val_accuracy: 0.8295\n",
            "Epoch 8/12\n",
            "530/530 [==============================] - 500s 944ms/step - loss: 0.3898 - accuracy: 0.8648 - val_loss: 0.3693 - val_accuracy: 0.8756\n",
            "Epoch 9/12\n",
            "530/530 [==============================] - 498s 939ms/step - loss: 0.3556 - accuracy: 0.8781 - val_loss: 0.3272 - val_accuracy: 0.8917\n",
            "Epoch 10/12\n",
            "530/530 [==============================] - 505s 953ms/step - loss: 0.3232 - accuracy: 0.8899 - val_loss: 0.3980 - val_accuracy: 0.8636\n",
            "Epoch 11/12\n",
            "530/530 [==============================] - 497s 938ms/step - loss: 0.2835 - accuracy: 0.9039 - val_loss: 0.2707 - val_accuracy: 0.9089\n",
            "Epoch 12/12\n",
            "530/530 [==============================] - 503s 950ms/step - loss: 0.2842 - accuracy: 0.9037 - val_loss: 0.2978 - val_accuracy: 0.8985\n"
          ]
        }
      ]
    },
    {
      "cell_type": "code",
      "source": [
        "history = network_history.history\n",
        "\n",
        "\n",
        "losses = history['loss']\n",
        "val_losses = history['val_loss']\n",
        "accuracies = history['accuracy']\n",
        "val_accuracies = history['val_accuracy']\n",
        "\n",
        "plt.xlabel = ('epochs')\n",
        "plt.ylabel = ('accuracy')\n",
        "plt.plot(accuracies)\n",
        "plt.plot(val_accuracies)\n",
        "plt.plot(losses)\n",
        "plt.plot(val_losses)\n",
        "plt.legend(['accuracy', 'val_accuracy', 'loss', 'val_loss'])\n",
        "plt.title(['train data losses and accuracies'])\n",
        "plt.figure()"
      ],
      "metadata": {
        "colab": {
          "base_uri": "https://localhost:8080/",
          "height": 315
        },
        "id": "axai_bBSWd6T",
        "outputId": "ad463c9d-5f10-4a49-fbec-8f7831a301db"
      },
      "execution_count": null,
      "outputs": [
        {
          "output_type": "execute_result",
          "data": {
            "text/plain": [
              "<Figure size 432x288 with 0 Axes>"
            ]
          },
          "metadata": {},
          "execution_count": 6
        },
        {
          "output_type": "display_data",
          "data": {
            "image/png": "[encoded data removed]",
            "text/plain": [
              "<Figure size 432x288 with 1 Axes>"
            ]
          },
          "metadata": {
            "needs_background": "light"
          }
        },
        {
          "output_type": "display_data",
          "data": {
            "text/plain": [
              "<Figure size 432x288 with 0 Axes>"
            ]
          },
          "metadata": {}
        }
      ]
    },
    {
      "cell_type": "code",
      "source": [
        "test_loss, test_accuracy = model.evaluate(X_test, y_test)\n",
        "\n",
        "\n",
        "print('test_loss =',test_loss)\n",
        "print('test_accuracy =',test_accuracy)"
      ],
      "metadata": {
        "id": "ed2pt5GxWuOc"
      },
      "execution_count": null,
      "outputs": []
    }
  ]
}